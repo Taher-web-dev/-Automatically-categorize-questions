{
 "cells": [
  {
   "cell_type": "markdown",
   "metadata": {},
   "source": [
    "# Importing Librairies"
   ]
  },
  {
   "cell_type": "code",
   "execution_count": 1,
   "metadata": {},
   "outputs": [],
   "source": [
    "import pandas as pd\n",
    "import numpy as np \n",
    "import matplotlib.pyplot as plt \n",
    "import nltk\n",
    "from sklearn.decomposition import LatentDirichletAllocation\n",
    "from math import ceil\n",
    "from sklearn.feature_extraction.text import CountVectorizer\n",
    "from sklearn.model_selection import GridSearchCV"
   ]
  },
  {
   "cell_type": "markdown",
   "metadata": {},
   "source": [
    "# Importing datas"
   ]
  },
  {
   "cell_type": "code",
   "execution_count": 2,
   "metadata": {},
   "outputs": [],
   "source": [
    "data_bagwords=pd.read_csv('bags_words.csv')\n",
    "data_targets=pd.read_csv('target.csv')\n",
    "data_tfidf=pd.read_csv('tfidf.csv')\n",
    "del(data_bagwords['Unnamed: 0'])\n",
    "del(data_targets['Unnamed: 0'])\n",
    "del(data_tfidf['Unnamed: 0'])"
   ]
  },
  {
   "cell_type": "markdown",
   "metadata": {},
   "source": [
    "# Unsupervised Method"
   ]
  },
  {
   "cell_type": "code",
   "execution_count": 3,
   "metadata": {},
   "outputs": [],
   "source": [
    "training=data_bagwords.values"
   ]
  },
  {
   "cell_type": "code",
   "execution_count": 5,
   "metadata": {},
   "outputs": [
    {
     "name": "stderr",
     "output_type": "stream",
     "text": [
      "/home/taher/anaconda3/lib/python3.6/site-packages/sklearn/decomposition/online_lda.py:536: DeprecationWarning: The default value for 'learning_method' will be changed from 'online' to 'batch' in the release 0.20. This warning was introduced in 0.18.\n",
      "  DeprecationWarning)\n",
      "/home/taher/anaconda3/lib/python3.6/site-packages/sklearn/decomposition/online_lda.py:536: DeprecationWarning: The default value for 'learning_method' will be changed from 'online' to 'batch' in the release 0.20. This warning was introduced in 0.18.\n",
      "  DeprecationWarning)\n",
      "/home/taher/anaconda3/lib/python3.6/site-packages/sklearn/decomposition/online_lda.py:536: DeprecationWarning: The default value for 'learning_method' will be changed from 'online' to 'batch' in the release 0.20. This warning was introduced in 0.18.\n",
      "  DeprecationWarning)\n",
      "/home/taher/anaconda3/lib/python3.6/site-packages/sklearn/decomposition/online_lda.py:536: DeprecationWarning: The default value for 'learning_method' will be changed from 'online' to 'batch' in the release 0.20. This warning was introduced in 0.18.\n",
      "  DeprecationWarning)\n",
      "/home/taher/anaconda3/lib/python3.6/site-packages/sklearn/decomposition/online_lda.py:536: DeprecationWarning: The default value for 'learning_method' will be changed from 'online' to 'batch' in the release 0.20. This warning was introduced in 0.18.\n",
      "  DeprecationWarning)\n",
      "/home/taher/anaconda3/lib/python3.6/site-packages/sklearn/decomposition/online_lda.py:536: DeprecationWarning: The default value for 'learning_method' will be changed from 'online' to 'batch' in the release 0.20. This warning was introduced in 0.18.\n",
      "  DeprecationWarning)\n",
      "/home/taher/anaconda3/lib/python3.6/site-packages/sklearn/decomposition/online_lda.py:536: DeprecationWarning: The default value for 'learning_method' will be changed from 'online' to 'batch' in the release 0.20. This warning was introduced in 0.18.\n",
      "  DeprecationWarning)\n",
      "/home/taher/anaconda3/lib/python3.6/site-packages/sklearn/decomposition/online_lda.py:536: DeprecationWarning: The default value for 'learning_method' will be changed from 'online' to 'batch' in the release 0.20. This warning was introduced in 0.18.\n",
      "  DeprecationWarning)\n",
      "/home/taher/anaconda3/lib/python3.6/site-packages/sklearn/decomposition/online_lda.py:536: DeprecationWarning: The default value for 'learning_method' will be changed from 'online' to 'batch' in the release 0.20. This warning was introduced in 0.18.\n",
      "  DeprecationWarning)\n",
      "/home/taher/anaconda3/lib/python3.6/site-packages/sklearn/decomposition/online_lda.py:536: DeprecationWarning: The default value for 'learning_method' will be changed from 'online' to 'batch' in the release 0.20. This warning was introduced in 0.18.\n",
      "  DeprecationWarning)\n",
      "/home/taher/anaconda3/lib/python3.6/site-packages/sklearn/decomposition/online_lda.py:536: DeprecationWarning: The default value for 'learning_method' will be changed from 'online' to 'batch' in the release 0.20. This warning was introduced in 0.18.\n",
      "  DeprecationWarning)\n",
      "/home/taher/anaconda3/lib/python3.6/site-packages/sklearn/decomposition/online_lda.py:536: DeprecationWarning: The default value for 'learning_method' will be changed from 'online' to 'batch' in the release 0.20. This warning was introduced in 0.18.\n",
      "  DeprecationWarning)\n",
      "/home/taher/anaconda3/lib/python3.6/site-packages/sklearn/decomposition/online_lda.py:536: DeprecationWarning: The default value for 'learning_method' will be changed from 'online' to 'batch' in the release 0.20. This warning was introduced in 0.18.\n",
      "  DeprecationWarning)\n",
      "/home/taher/anaconda3/lib/python3.6/site-packages/sklearn/decomposition/online_lda.py:536: DeprecationWarning: The default value for 'learning_method' will be changed from 'online' to 'batch' in the release 0.20. This warning was introduced in 0.18.\n",
      "  DeprecationWarning)\n",
      "/home/taher/anaconda3/lib/python3.6/site-packages/sklearn/decomposition/online_lda.py:536: DeprecationWarning: The default value for 'learning_method' will be changed from 'online' to 'batch' in the release 0.20. This warning was introduced in 0.18.\n",
      "  DeprecationWarning)\n",
      "/home/taher/anaconda3/lib/python3.6/site-packages/sklearn/decomposition/online_lda.py:536: DeprecationWarning: The default value for 'learning_method' will be changed from 'online' to 'batch' in the release 0.20. This warning was introduced in 0.18.\n",
      "  DeprecationWarning)\n"
     ]
    },
    {
     "data": {
      "text/plain": [
       "GridSearchCV(cv=None, error_score='raise',\n",
       "       estimator=LatentDirichletAllocation(batch_size=128, doc_topic_prior=None,\n",
       "             evaluate_every=-1, learning_decay=0.7, learning_method=None,\n",
       "             learning_offset=10.0, max_doc_update_iter=100, max_iter=10,\n",
       "             mean_change_tol=0.001, n_components=10, n_jobs=1,\n",
       "             n_topics=None, perp_tol=0.1, random_state=None,\n",
       "             topic_word_prior=None, total_samples=1000000.0, verbose=0),\n",
       "       fit_params=None, iid=True, n_jobs=1,\n",
       "       param_grid={'n_components': [10, 50, 80, 150, 250]},\n",
       "       pre_dispatch='2*n_jobs', refit=True, return_train_score='warn',\n",
       "       scoring=None, verbose=0)"
      ]
     },
     "execution_count": 5,
     "metadata": {},
     "output_type": "execute_result"
    }
   ],
   "source": [
    "#Choice the best hyperparametrs of the LDA method.\n",
    "params={'n_components':[10,50,80,150,250]}\n",
    "lda=LatentDirichletAllocation()\n",
    "model=GridSearchCV(lda,params)\n",
    "model.fit(training)"
   ]
  },
  {
   "cell_type": "code",
   "execution_count": 6,
   "metadata": {},
   "outputs": [
    {
     "name": "stdout",
     "output_type": "stream",
     "text": [
      "Best Model's Params : {'n_components': 10}\n",
      "Best LOg likelihood score : -544761.9040907667\n",
      "Model perplexity : 2435.0213701508733\n"
     ]
    }
   ],
   "source": [
    "#Best Model\n",
    "best_lda_model=model.best_estimator_\n",
    "#Best parameters\n",
    "print(\"Best Model's Params : {}\".format(model.best_params_))\n",
    "#Log Likelihood Score\n",
    "print(\"Best LOg likelihood score : {}\".format(model.best_score_))\n",
    "#Perplexity\n",
    "print(\"Model perplexity : {}\".format(best_lda_model.perplexity(training)))"
   ]
  },
  {
   "cell_type": "code",
   "execution_count": 7,
   "metadata": {},
   "outputs": [],
   "source": [
    "latent=best_lda_model.transform(training) # Topics distribution for data_bagwords."
   ]
  },
  {
   "cell_type": "code",
   "execution_count": 8,
   "metadata": {},
   "outputs": [],
   "source": [
    "# for each observation , we will choice the three moste representative topics.\n",
    "tags=pd.DataFrame(columns=['topics']) # the dataframe of returned tags for each question."
   ]
  },
  {
   "cell_type": "code",
   "execution_count": 9,
   "metadata": {},
   "outputs": [],
   "source": [
    "#compute the representative topics for each sample.\n",
    "tags['topics']=[latent[i,:].argsort()[-3:] for i in range(latent.shape[0])] "
   ]
  },
  {
   "cell_type": "code",
   "execution_count": 10,
   "metadata": {},
   "outputs": [],
   "source": [
    "#Frequency used word for each topic per each sample.\n",
    "frequency_word=best_lda_model.components_"
   ]
  },
  {
   "cell_type": "code",
   "execution_count": 11,
   "metadata": {},
   "outputs": [
    {
     "name": "stdout",
     "output_type": "stream",
     "text": [
      "Topic 0 :\n",
      "format wiki wikipedia blog number thread librari msdn microsoft en\n",
      "Topic 1 :\n",
      "request site session mail content header password email secur user\n",
      "Topic 2 :\n",
      "insert return end array queri index select list databas sql\n",
      "Topic 3 :\n",
      "wcf currentpag stackoverflow pattern os https regex python rubi book\n",
      "Topic 4 :\n",
      "user know chang thing control question think page report project\n",
      "Topic 5 :\n",
      "js jqueri javascript text id element tag div amp event\n",
      "Topic 6 :\n",
      "2gb testantlr blobout cc myapp getupperbound orig applet callback matrix\n",
      "Topic 7 :\n",
      "properti count null type void method valu static return public\n",
      "Topic 8 :\n",
      "acm directcast jdk lang stub javas union row sup sun\n",
      "Topic 9 :\n",
      "visual plugin eclips commit dim color subvers repositori merg branch\n"
     ]
    }
   ],
   "source": [
    "# topics illustration. \n",
    "def display_topics(component,features_names,no_top_words):\n",
    "    \"\"\"This function, allow to illustrate the topics by their most used words.\n",
    "    \n",
    "       Args:\n",
    "       \n",
    "       component(array): frequency of using of each words by each topics\n",
    "       features_names(list): list of used words\n",
    "       no_top_words(int): the number of most used words to consider for each topic.\n",
    "       \n",
    "       \n",
    "    \n",
    "    \"\"\"\n",
    "    for toop_idx,topc in enumerate(component):\n",
    "        print (\"Topic {} :\".format(toop_idx))\n",
    "        print (\" \".join([features_names[i] for i in topc.argsort()[-no_top_words-1:-1] ]))\n",
    "no_top_words=10\n",
    "display_topics(frequency_word,data_bagwords.columns,no_top_words)"
   ]
  },
  {
   "cell_type": "code",
   "execution_count": 12,
   "metadata": {},
   "outputs": [],
   "source": [
    "def find_tags(topics,no_words):\n",
    "    \"\"\"This function, allows to determinate the most used words for each topics.Theses words will returned by \n",
    "       the function as tags.\n",
    "       \n",
    "       Args:\n",
    "       topics(list):the index of topics\n",
    "       no_words(int):the number of most used words per topic.That the function should capture.\n",
    "       \n",
    "       Returns:\n",
    "       \n",
    "       words(str): the captured words or tags.\n",
    "       \"\"\"\n",
    "    words=str()\n",
    "    for i in topics:\n",
    "        ind=frequency_word[i,:].argsort()[-no_words:]\n",
    "        for j in ind:\n",
    "             \n",
    "             words+=data_bagwords.columns[j]\n",
    "             words+=' '\n",
    "           \n",
    "    return words"
   ]
  },
  {
   "cell_type": "code",
   "execution_count": 13,
   "metadata": {},
   "outputs": [],
   "source": [
    "no_words=2"
   ]
  },
  {
   "cell_type": "code",
   "execution_count": 14,
   "metadata": {},
   "outputs": [],
   "source": [
    "tags['tag']=[find_tags(topics,no_words) for topics in tags['topics']]"
   ]
  },
  {
   "cell_type": "markdown",
   "metadata": {},
   "source": [
    "# Unsupervised method performance"
   ]
  },
  {
   "cell_type": "markdown",
   "metadata": {},
   "source": [
    "<font color=red> <font size=4> ** True tags**</font>"
   ]
  },
  {
   "cell_type": "markdown",
   "metadata": {},
   "source": [
    "Hereunder , we will mesure the performance of the unsupervised method by the ratio between the true labels detected and the total number of the returned labels."
   ]
  },
  {
   "cell_type": "code",
   "execution_count": 15,
   "metadata": {},
   "outputs": [],
   "source": [
    "nb_tags=np.size(np.where(data_targets.values==1)[0])# the total number of true tags that should be predicted."
   ]
  },
  {
   "cell_type": "code",
   "execution_count": 16,
   "metadata": {},
   "outputs": [
    {
     "data": {
      "text/plain": [
       "Index(['browser', 'user', 'html'], dtype='object')"
      ]
     },
     "execution_count": 16,
     "metadata": {},
     "output_type": "execute_result"
    }
   ],
   "source": [
    "data_targets.columns[np.where(data_targets.iloc[1,:].values==1)[0]]"
   ]
  },
  {
   "cell_type": "code",
   "execution_count": 17,
   "metadata": {},
   "outputs": [],
   "source": [
    "score=0\n",
    "for i in range(len(tags)):\n",
    "    li=tags.iloc[i,1].split(' ')\n",
    "    de=data_targets.columns[np.where(data_targets.iloc[i,:].values==1)[0]]\n",
    "    \n",
    "    for elt in li :\n",
    "        if elt in de:\n",
    "            score+=1"
   ]
  },
  {
   "cell_type": "code",
   "execution_count": 18,
   "metadata": {},
   "outputs": [],
   "source": [
    "score=score/nb_tags*100"
   ]
  },
  {
   "cell_type": "code",
   "execution_count": 19,
   "metadata": {},
   "outputs": [
    {
     "name": "stdout",
     "output_type": "stream",
     "text": [
      "The performance of the unsupervised method on base to true returned tags equal to : 2.5081788440567068%\n"
     ]
    }
   ],
   "source": [
    "print('The performance of the unsupervised method on base to true returned tags equal to : {}%'.format(score))"
   ]
  },
  {
   "cell_type": "markdown",
   "metadata": {},
   "source": [
    "<font color =red> <font size=4> ** Pertinent Tags **</font>"
   ]
  },
  {
   "cell_type": "markdown",
   "metadata": {},
   "source": [
    "**Here,we will evaluate the performance of the unsupervised method by the following approach:  \n",
    "    we consider each returned target as pertinent if he belong to the tags mentionned in the initial data.So we mesure\n",
    "    the performance of the method by the number of pertinents tags in compare with the total returned tags.**"
   ]
  },
  {
   "cell_type": "code",
   "execution_count": 20,
   "metadata": {},
   "outputs": [],
   "source": [
    "#We will compute hereunder the number of pertinent tags returned by the unsupervised method.\n",
    "sc=0\n",
    "\n",
    "for elt in tags['tag']:\n",
    "    li=[]\n",
    "    mots=elt.split(' ')\n",
    "    for mt in mots:\n",
    "        li.append(mt[:-1])\n",
    "    for l in li:\n",
    "        if l in data_targets.columns:\n",
    "            sc+=1"
   ]
  },
  {
   "cell_type": "code",
   "execution_count": 21,
   "metadata": {},
   "outputs": [],
   "source": [
    "nb=6*len(tags)\n",
    "sc=(sc/nb_tags)*100 # score of the unsupervised  method."
   ]
  },
  {
   "cell_type": "code",
   "execution_count": 22,
   "metadata": {},
   "outputs": [
    {
     "name": "stdout",
     "output_type": "stream",
     "text": [
      "The performance of the unsupervised method equal to:29.819459590451956%\n"
     ]
    }
   ],
   "source": [
    "print('The performance of the unsupervised method equal to:{}%'.format(sc))"
   ]
  },
  {
   "cell_type": "markdown",
   "metadata": {},
   "source": [
    "# Supervised method"
   ]
  },
  {
   "cell_type": "code",
   "execution_count": 23,
   "metadata": {},
   "outputs": [],
   "source": [
    "from sklearn.ensemble import RandomForestClassifier\n",
    "from sklearn.model_selection import train_test_split\n",
    "from sklearn.model_selection import GridSearchCV\n",
    "from sklearn.naive_bayes import MultinomialNB\n",
    "from sklearn.multiclass import OneVsRestClassifier\n",
    "from sklearn.multioutput import MultiOutputClassifier\n",
    "from sklearn.linear_model import LogisticRegression"
   ]
  },
  {
   "cell_type": "code",
   "execution_count": 24,
   "metadata": {},
   "outputs": [],
   "source": [
    "x=np.array(data_tfidf.values)\n",
    "y=np.array(data_targets.values)"
   ]
  },
  {
   "cell_type": "code",
   "execution_count": 25,
   "metadata": {},
   "outputs": [
    {
     "name": "stderr",
     "output_type": "stream",
     "text": [
      "/home/taher/anaconda3/lib/python3.6/site-packages/sklearn/model_selection/_split.py:2026: FutureWarning: From version 0.21, test_size will always complement train_size unless both are specified.\n",
      "  FutureWarning)\n"
     ]
    }
   ],
   "source": [
    "xtr,xts,ytr,yts=train_test_split(x,y,train_size=0.4)"
   ]
  },
  {
   "cell_type": "code",
   "execution_count": 26,
   "metadata": {},
   "outputs": [],
   "source": [
    "estimator=MultiOutputClassifier(LogisticRegression())\n",
    "\n"
   ]
  },
  {
   "cell_type": "code",
   "execution_count": 27,
   "metadata": {},
   "outputs": [
    {
     "data": {
      "text/plain": [
       "MultiOutputClassifier(estimator=LogisticRegression(C=1.0, class_weight=None, dual=False, fit_intercept=True,\n",
       "          intercept_scaling=1, max_iter=100, multi_class='ovr', n_jobs=1,\n",
       "          penalty='l2', random_state=None, solver='liblinear', tol=0.0001,\n",
       "          verbose=0, warm_start=False),\n",
       "           n_jobs=1)"
      ]
     },
     "execution_count": 27,
     "metadata": {},
     "output_type": "execute_result"
    }
   ],
   "source": [
    "estimator.fit(xtr,ytr)"
   ]
  },
  {
   "cell_type": "code",
   "execution_count": 28,
   "metadata": {},
   "outputs": [],
   "source": [
    "ypred=estimator.predict(xts)"
   ]
  },
  {
   "cell_type": "code",
   "execution_count": 29,
   "metadata": {},
   "outputs": [],
   "source": [
    "y1=ypred.flatten()\n",
    "y2=yts.flatten()"
   ]
  },
  {
   "cell_type": "code",
   "execution_count": 30,
   "metadata": {},
   "outputs": [],
   "source": [
    "nb_total=np.size(np.where(y2==1)[0])\n"
   ]
  },
  {
   "cell_type": "code",
   "execution_count": 31,
   "metadata": {},
   "outputs": [],
   "source": [
    "y_score=y1+y2"
   ]
  },
  {
   "cell_type": "code",
   "execution_count": 32,
   "metadata": {},
   "outputs": [],
   "source": [
    "score=np.size(np.where(y_score==2)[0])"
   ]
  },
  {
   "cell_type": "code",
   "execution_count": 33,
   "metadata": {},
   "outputs": [],
   "source": [
    "score=(score/nb_total)*100"
   ]
  },
  {
   "cell_type": "code",
   "execution_count": 34,
   "metadata": {},
   "outputs": [
    {
     "name": "stdout",
     "output_type": "stream",
     "text": [
      "The performance of the supervised method equal to:6.734816596512328 %\n"
     ]
    }
   ],
   "source": [
    "print('The performance of the supervised method equal to:{} %'.format(score))"
   ]
  },
  {
   "cell_type": "markdown",
   "metadata": {},
   "source": [
    "# Export useful object"
   ]
  },
  {
   "cell_type": "code",
   "execution_count": 35,
   "metadata": {},
   "outputs": [],
   "source": [
    "features=data_targets.columns"
   ]
  },
  {
   "cell_type": "code",
   "execution_count": 36,
   "metadata": {},
   "outputs": [],
   "source": [
    "import os\n",
    "path=os.path.abspath(os.path.dirname('__file__'))\n",
    "chemin=os.path.join(path,'objets')"
   ]
  },
  {
   "cell_type": "code",
   "execution_count": 37,
   "metadata": {},
   "outputs": [],
   "source": [
    "features=data_bagwords.columns\n",
    "import pickle\n",
    "with open (chemin,'wb') as fichier:\n",
    "     mon_pickler=pickle.Pickler(fichier)\n",
    "     mon_pickler.dump(best_lda_model)\n",
    "     mon_pickler.dump(frequency_word)\n",
    "     mon_pickler.dump(features)"
   ]
  },
  {
   "cell_type": "code",
   "execution_count": 38,
   "metadata": {},
   "outputs": [],
   "source": [
    "texte=\"<p>I want to use a track-bar to change a form's opacity.</p>\\n\\n<p>This is my code:</p>\\n\\n<pre><code>decimal trans = trackBar1.Value / 5000;\\nthis.Opacity = trans;\\n</code></pre>\\n\\n<p>When I build the application, it gives the following error:</p>\\n\\n<blockquote>\\n  <p>Cannot implicitly convert type <code>'decimal'</code> to <code>'double'</code>.</p>\\n</blockquote>\\n\\n<p>I tried using <code>trans</code> and <code>double</code> but then the control doesn't work. This code worked fine in a past VB.NET project.</p>\\n\""
   ]
  },
  {
   "cell_type": "code",
   "execution_count": 39,
   "metadata": {},
   "outputs": [],
   "source": [
    "import pickle\n",
    "fi=os.path.join(path,'utiles')\n",
    "with open(fi,'rb') as fichier :\n",
    "    depickler=pickle.Unpickler(fichier)\n",
    "    mt=depickler.load()\n",
    "    tf=depickler.load()"
   ]
  },
  {
   "cell_type": "code",
   "execution_count": null,
   "metadata": {},
   "outputs": [],
   "source": []
  }
 ],
 "metadata": {
  "kernelspec": {
   "display_name": "Python 3",
   "language": "python",
   "name": "python3"
  },
  "language_info": {
   "codemirror_mode": {
    "name": "ipython",
    "version": 3
   },
   "file_extension": ".py",
   "mimetype": "text/x-python",
   "name": "python",
   "nbconvert_exporter": "python",
   "pygments_lexer": "ipython3",
   "version": "3.6.5"
  }
 },
 "nbformat": 4,
 "nbformat_minor": 2
}
